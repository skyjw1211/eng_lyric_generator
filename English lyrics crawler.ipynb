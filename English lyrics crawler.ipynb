{
 "cells": [
  {
   "cell_type": "code",
   "execution_count": 34,
   "metadata": {},
   "outputs": [],
   "source": [
    "from bs4 import BeautifulSoup\n",
    "import requests as requests\n",
    "from selenium import webdriver"
   ]
  },
  {
   "cell_type": "code",
   "execution_count": null,
   "metadata": {},
   "outputs": [],
   "source": [
    "#title crawling\n",
    "titles = []\n",
    "titles_url = []\n",
    "url = \"이 곳에 url 입력\" \n",
    "req = requests.get(url)\n",
    "\n",
    "html = req.text\n",
    "soup = BeautifulSoup(html, 'html.parser')\n",
    "for i in range(len(soup.select('.tal'))):\n",
    "    if i%100 == 0:\n",
    "        print(i)\n",
    "    titles.append(soup.select('.tal')[i].text)\n",
    "    titles_url.append(soup.select('a[href^=\"/lyric\"]')[i].get('href'))\n",
    "print(titles[0:10])\n",
    "print(titles_url[0:10])\n",
    "\n"
   ]
  },
  {
   "cell_type": "code",
   "execution_count": null,
   "metadata": {},
   "outputs": [],
   "source": [
    "#lyrics crawling\n",
    "url = \"https://www.lyrics.com\"\n",
    "lyrics = []\n",
    "print('crawling.....')\n",
    "for i in range(len(titles_url)):\n",
    "    if i%50 == 0:\n",
    "        print(i)\n",
    "    req = requests.get(url+titles_url[i])\n",
    "    html = req.text\n",
    "    soup = BeautifulSoup(html, 'html.parser')\n",
    "    lyrics.append(soup.select('#lyric-body-text')[0].text)\n",
    "print('finished.')"
   ]
  },
  {
   "cell_type": "code",
   "execution_count": null,
   "metadata": {},
   "outputs": [],
   "source": [
    "print(lyrics[0:1])"
   ]
  },
  {
   "cell_type": "code",
   "execution_count": null,
   "metadata": {},
   "outputs": [],
   "source": [
    "#lyrics preprocessing\n",
    "lyrics_preprocessed = []\n",
    "print(\"lyrics preprocessing...\")\n",
    "for i in range(len(lyrics)):\n",
    "    if i%50 == 0:\n",
    "        print(i)\n",
    "    lyric = lyrics[i]\n",
    "    while True:\n",
    "        temp = lyric\n",
    "        lyric = lyric.replace(\"\\n\\n\", \"\\n\").replace(\"\\r\", '') #전처리 진행\n",
    "        if temp == lyric: #변화 없음 == 전처리 완료\n",
    "            lyrics_preprocessed.append(lyric)\n",
    "            break\n",
    "            \n",
    "print(\"finished.\")"
   ]
  },
  {
   "cell_type": "code",
   "execution_count": null,
   "metadata": {},
   "outputs": [],
   "source": [
    "#파일화, 전처리 이전 가사\n",
    "f = open(\"oasis_lyrics.txt\", 'w', encoding=\"utf-8\")\n",
    "for i in range(len(titles)):\n",
    "    if i%50 == 0:\n",
    "        print(i)\n",
    "    data = \"title: \"+titles[i]+\"\\n\"+lyrics[i]+\"\\n\\n\"\n",
    "    f.write(data)\n",
    "f.close()"
   ]
  },
  {
   "cell_type": "code",
   "execution_count": 76,
   "metadata": {},
   "outputs": [],
   "source": [
    "#파일화2, 전처리 이후 가사\n",
    "f = open(\"oasis_lyrics2.txt\", 'w', encoding=\"utf-8\")\n",
    "for i in range(len(titles)):\n",
    "    data = \"title: \"+titles[i]+\"\\n\"+lyrics_preprocessed[i]+\"\\n\\n\"\n",
    "    f.write(data)\n",
    "f.close()"
   ]
  }
 ],
 "metadata": {
  "kernelspec": {
   "display_name": "Python 3",
   "language": "python",
   "name": "python3"
  },
  "language_info": {
   "codemirror_mode": {
    "name": "ipython",
    "version": 3
   },
   "file_extension": ".py",
   "mimetype": "text/x-python",
   "name": "python",
   "nbconvert_exporter": "python",
   "pygments_lexer": "ipython3",
   "version": "3.7.3"
  }
 },
 "nbformat": 4,
 "nbformat_minor": 2
}
