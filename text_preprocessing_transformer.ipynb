{
 "cells": [
  {
   "cell_type": "markdown",
   "metadata": {},
   "source": [
    "# Text Preprocessing"
   ]
  },
  {
   "cell_type": "code",
   "execution_count": null,
   "metadata": {},
   "outputs": [],
   "source": [
    "# load file\n",
    "data = \"\"\n",
    "f = open(\"oasis_lyrics2.txt\", 'r', encoding = \"utf8\")\n",
    "while True:\n",
    "    line = f.readline()\n",
    "    if not line: break\n",
    "    data+=line\n",
    "f.close()"
   ]
  },
  {
   "cell_type": "code",
   "execution_count": null,
   "metadata": {},
   "outputs": [],
   "source": [
    "title = []\n",
    "\n",
    "#get the titles\n",
    "for i in range(1,len(data.split(\"title: \"))):\n",
    "    if i%100 == 0:\n",
    "        print(i)\n",
    "    title.append(data.split(\"title: \")[i].split(\"\\n\")[0])"
   ]
  },
  {
   "cell_type": "code",
   "execution_count": null,
   "metadata": {},
   "outputs": [],
   "source": [
    "#delete title\n",
    "for i in range(len(title)):\n",
    "    \n",
    "    replace_line = 'title: '+title[i]+'\\n'\n",
    "    if i%100 == 0:\n",
    "        print(i)\n",
    "    data = data.replace(replace_line, '')\n"
   ]
  },
  {
   "cell_type": "code",
   "execution_count": null,
   "metadata": {},
   "outputs": [],
   "source": [
    "data_de = data #data for decoding part\n",
    "type(data_ans)"
   ]
  },
  {
   "cell_type": "code",
   "execution_count": null,
   "metadata": {},
   "outputs": [],
   "source": [
    "#data_ans: delete first lines of a song, <eos> marking, <eos>: end of song\n",
    "lyric_split = data_de.split('\\n\\n') #각 가사별 구분\n",
    "lyric_split = list(map(lambda x: x.split('\\n')[1:], lyric_split)) #각 가사의 첫번째 줄 제거\n",
    "lyric_split = list(map(lambda x: '\\n'.join(x), lyric_split)) \n",
    "data_de = '\\n\\n'.join(lyric_split) #다시 합치기, 곡 별로 '\\n\\n'로 구분\n",
    "\n",
    "data_de = data_de.replace('\\n\\n', '\\n<eos>\\n') # 곡의 끝에 <eos>를 붙여줌\n",
    "data_de = data_de.split('\\n') #곡 별 구분 없애고 전체를 하나로 묶음\n",
    "\n",
    "\n",
    "#data: data to list\n",
    "data = data.replace(\"\\n\\n\", \"\\n\")\n",
    "data = data.split('\\n')"
   ]
  },
  {
   "cell_type": "code",
   "execution_count": null,
   "metadata": {},
   "outputs": [],
   "source": [
    "#last line deletion\n",
    "data.pop(-1)\n",
    "print(data[-1])\n",
    "data_ans.pop(-1)\n",
    "print(data_ans[-1])"
   ]
  },
  {
   "cell_type": "code",
   "execution_count": null,
   "metadata": {},
   "outputs": [],
   "source": [
    "print(len(data))\n",
    "print(len(data_ans))"
   ]
  },
  {
   "cell_type": "code",
   "execution_count": null,
   "metadata": {},
   "outputs": [],
   "source": [
    "#encoding data와 decoding data를 합한 전체 데이터 생성, 구분자는 '\\t_'\n",
    "whole_data = []\n",
    "for i in range(len(data)):\n",
    "    if i%1000 == 0:\n",
    "        print(i)\n",
    "    whole_data.append(data[i]+'\\t_'+data_ans[i]) \n",
    "    \n",
    "whole_data[2]"
   ]
  },
  {
   "cell_type": "code",
   "execution_count": null,
   "metadata": {},
   "outputs": [],
   "source": [
    "#파일에 쓰기\n",
    "f = open(\"oasis_lyrics3.txt\", 'w', encoding = \"utf8\")\n",
    "f.write('\\n'.join(whole_data))\n",
    "f.close()"
   ]
  },
  {
   "cell_type": "code",
   "execution_count": null,
   "metadata": {},
   "outputs": [],
   "source": [
    "#train, valid, test data를 나눈다.\n",
    "print(len(whole_data)*0.6)#train\n",
    "print(len(whole_data)*0.2)#valid\n",
    "print(len(whole_data)*0.6+len(whole_data)*0.2+len(whole_data)*0.2)#whole"
   ]
  },
  {
   "cell_type": "markdown",
   "metadata": {},
   "source": [
    "### 여기에 train, valid, test set 나누어서 파일 저장하는 코드"
   ]
  },
  {
   "cell_type": "code",
   "execution_count": null,
   "metadata": {},
   "outputs": [],
   "source": [
    "#이 상태로 train, valid, test data따로 저장\n",
    "random.shuffle(whole_data) #데이터를 섞어줌\n",
    "whole_data_train = whole_data[:int(len(whole_data)*0.6)]\n",
    "whole_data_valid = whole_data[int(len(whole_data)*0.6):int(len(whole_data)*0.6)+int(len(whole_data)*0.2)]\n",
    "whole_data_test = whole_data[int(len(whole_data)*0.6)+int(len(whole_data)*0.2):]"
   ]
  },
  {
   "cell_type": "code",
   "execution_count": null,
   "metadata": {},
   "outputs": [],
   "source": [
    "#파일에 각각 쓰기\n",
    "f = open(\"oasis_lyrics_train.txt\", 'w', encoding = \"utf8\")\n",
    "f.write('\\n'.join(whole_data_train))\n",
    "f.close()\n",
    "\n",
    "f = open(\"oasis_lyrics_valid.txt\", 'w', encoding = \"utf8\")\n",
    "f.write('\\n'.join(whole_data_valid))\n",
    "f.close()\n",
    "\n",
    "f = open(\"oasis_lyrics_test.txt\", 'w', encoding = \"utf8\")\n",
    "f.write('\\n'.join(whole_data_test))\n",
    "f.close()"
   ]
  }
 ],
 "metadata": {
  "kernelspec": {
   "display_name": "Python 3",
   "language": "python",
   "name": "python3"
  },
  "language_info": {
   "codemirror_mode": {
    "name": "ipython",
    "version": 3
   },
   "file_extension": ".py",
   "mimetype": "text/x-python",
   "name": "python",
   "nbconvert_exporter": "python",
   "pygments_lexer": "ipython3",
   "version": "3.7.3"
  }
 },
 "nbformat": 4,
 "nbformat_minor": 2
}
